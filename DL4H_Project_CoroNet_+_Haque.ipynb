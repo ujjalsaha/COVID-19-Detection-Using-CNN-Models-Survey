{
  "nbformat": 4,
  "nbformat_minor": 0,
  "metadata": {
    "colab": {
      "name": "DL4H Project - CoroNet + Haque.ipynb",
      "provenance": [],
      "collapsed_sections": []
    },
    "kernelspec": {
      "name": "python3",
      "display_name": "Python 3"
    },
    "language_info": {
      "name": "python"
    },
    "accelerator": "GPU"
  },
  "cells": [
    {
      "cell_type": "code",
      "metadata": {
        "id": "UiN5wrYoYQcm"
      },
      "source": [
        "# Could be CoroNet, CovidCNN  (Haque), EMCNet, DarkNet # To be done\n",
        "MODEL_NAME = 'EMCNet'\n",
        "\n",
        "# Define hyperparameters\n",
        "BATCH_SIZE = 32\n",
        "LEARNING_RATE = 0.01\n",
        "NUM_EPOCHS = 100\n",
        "\n",
        "DATA_PATH = \"/content/data_split/\"\n",
        "UNZIP_LOC = '/content/data/'\n",
        "ZIPFILE = 'dataset.zip'\n",
        "\n",
        "MODEL_ROOT = '/content/models/'\n"
      ],
      "execution_count": 46,
      "outputs": []
    },
    {
      "cell_type": "markdown",
      "metadata": {
        "id": "IOy86tzHFoSE"
      },
      "source": [
        "Setup the packages that are missing in the Colab platform\n"
      ]
    },
    {
      "cell_type": "code",
      "metadata": {
        "colab": {
          "base_uri": "https://localhost:8080/"
        },
        "id": "Fr_mggZvFxEJ",
        "outputId": "3d925332-c71d-4b27-8e8c-d1ebf6edc6fe"
      },
      "source": [
        "!pip install utils\n",
        "!pip install split-folders tqdm\n",
        "\n",
        "if MODEL_NAME == 'CoroNet':\n",
        "  !pip install timm\n",
        "  import timm"
      ],
      "execution_count": 47,
      "outputs": [
        {
          "output_type": "stream",
          "text": [
            "Requirement already satisfied: utils in /usr/local/lib/python3.7/dist-packages (1.0.1)\n",
            "Requirement already satisfied: split-folders in /usr/local/lib/python3.7/dist-packages (0.4.3)\n",
            "Requirement already satisfied: tqdm in /usr/local/lib/python3.7/dist-packages (4.41.1)\n"
          ],
          "name": "stdout"
        }
      ]
    },
    {
      "cell_type": "markdown",
      "metadata": {
        "id": "DTtk_W2YDGOl"
      },
      "source": [
        "Setup the environment"
      ]
    },
    {
      "cell_type": "code",
      "metadata": {
        "id": "mrRkTGaNFXXs"
      },
      "source": [
        "import os\n",
        "import random\n",
        "import numpy as np\n",
        "import torch\n",
        "import torch.nn as nn\n",
        "import torch.nn.functional as F\n",
        "import utils as utils\n",
        "import time; _START_RUNTIME = time.time()\n",
        "\n",
        "import torchvision\n",
        "import torchvision.datasets as datasets\n",
        "import torchvision.transforms as transforms\n",
        "import torch.optim as optim\n",
        "\n",
        "import gdown\n",
        "import splitfolders\n",
        "\n",
        "from torch.utils.tensorboard import SummaryWriter\n",
        "from datetime import datetime\n",
        "import glob\n",
        "import copy\n",
        "import matplotlib.pyplot as plt\n",
        "import seaborn as sns\n",
        "from google.colab import files\n",
        "\n",
        "# set seed\n",
        "seed = 24\n",
        "random.seed(seed)\n",
        "np.random.seed(seed)\n",
        "torch.manual_seed(seed)\n",
        "os.environ[\"PYTHONHASHSEED\"] = str(seed)\n",
        "\n",
        "MODEL_PATH = MODEL_ROOT + '/' + MODEL_NAME + '/' + datetime.today().strftime('%m-%d-%Y') + '/'\n",
        "\n",
        "if not os.path.exists(MODEL_PATH):\n",
        "   os.makedirs(MODEL_PATH, exist_ok=True)\n",
        "\n",
        "use_cuda = torch.cuda.is_available()"
      ],
      "execution_count": 48,
      "outputs": []
    },
    {
      "cell_type": "markdown",
      "metadata": {
        "id": "GMqRPi9okALt"
      },
      "source": [
        "Download dataset and split into train/val/test folders"
      ]
    },
    {
      "cell_type": "code",
      "metadata": {
        "colab": {
          "base_uri": "https://localhost:8080/"
        },
        "id": "HoCessfnJ8UD",
        "outputId": "4b86dc74-81bd-4306-e8e0-699df9dbd722"
      },
      "source": [
        "new_dataset = 'MINI'\n",
        "\n",
        "DATA_PATH = \"/content/data_split/\"\n",
        "UNZIP_LOC = '/content/data/'\n",
        "ZIPFILE = 'dataset.zip'\n",
        "\n",
        "total_files = sum([len(files) for _, _, files in os.walk(UNZIP_LOC)])\n",
        "\n",
        "if total_files == 84:\n",
        "  old_dataset = 'MINI'\n",
        "elif total_files == 2000:\n",
        "  old_dataset = 'MED'\n",
        "elif total_files >= 7200:\n",
        "  old_dataset = 'FULL'\n",
        "else:\n",
        "  old_dataset = 'NONE'\n",
        "\n",
        "if new_dataset == 'MINI':\n",
        "  url = 'https://drive.google.com/uc?id=1IuEaRnCUA-TSzQC177PIRLUXhrx63dh6'  # 42 images\n",
        "  BATCH_SIZE = 15\n",
        "  LEARNING_RATE = 0.001\n",
        "  NUM_EPOCHS = 20\n",
        "elif new_dataset == 'MED':\n",
        "  url = 'https://drive.google.com/uc?id=1kiFO_-QOeFy9R6Fo2CPQun5oqJ1eR7ug'   # 1000 images\n",
        "  BATCH_SIZE = 32\n",
        "  LEARNING_RATE = 0.001\n",
        "  NUM_EPOCHS = 5\n",
        "elif new_dataset == 'FULL':\n",
        "  url = 'https://drive.google.com/uc?id=1ZrnMdjrJAyJwdsH1L2W6pmL8hjFFuhqw' # entire datset\n",
        "  BATCH_SIZE = 32\n",
        "  LEARNING_RATE = 0.001\n",
        "  NUM_EPOCHS = 20\n",
        "\n",
        "# Download dataset if currently not there\n",
        "if new_dataset != old_dataset:\n",
        "  download_files = True\n",
        "\n",
        "  !rm -rf \"{UNZIP_LOC}\"\n",
        "  !rm -rf \"{DATA_PATH}\"\n",
        "  !rm \"{ZIPFILE}\"\n",
        "else:\n",
        "  download_files = False\n",
        "\n",
        "\n",
        "print(f\"Total files: {total_files}  Old dataset: {old_dataset} New dataset: {new_dataset}  Download files: {download_files}\")\n",
        "\n",
        "# Download from Google drive, unzip and split to train/test/val folders\n",
        "if download_files:\n",
        "  gdown.download(url, ZIPFILE, quiet=False)\n",
        " \n",
        "  !unzip -q \"{ZIPFILE}\" -d \"{UNZIP_LOC}\"\n",
        "\n",
        "  splitfolders.ratio(UNZIP_LOC, output= DATA_PATH, seed=1337, ratio=(0.6,0.2,0.2))\n"
      ],
      "execution_count": 49,
      "outputs": [
        {
          "output_type": "stream",
          "text": [
            "Total files: 84  Old dataset: MINI New dataset: MINI  Download files: False\n"
          ],
          "name": "stdout"
        }
      ]
    },
    {
      "cell_type": "code",
      "metadata": {
        "id": "seXPt52tBhkD"
      },
      "source": [
        "# import cv2\n",
        "# from pathlib import Path\n",
        "\n",
        "# rootdir = Path(UNZIP_LOC)\n",
        "# # Return a list of regular files only, not directories\n",
        "# file_list = [f for f in rootdir.glob('**/*') if f.is_file()]\n",
        "\n",
        "# for f in file_list:\n",
        "#   img = cv2.imread(str(f), cv2.IMREAD_UNCHANGED)\n",
        "#   print(img.shape,\"Grayscale\" if img.ndim == 2 else \"RGB\")"
      ],
      "execution_count": 50,
      "outputs": []
    },
    {
      "cell_type": "markdown",
      "metadata": {
        "id": "y8biW3CPFWTt"
      },
      "source": [
        "Dataset\n",
        "\n",
        "The dataset is stored as a zip folder. Retrieve the folder from Google Drive and unzip it in the Colab workspace."
      ]
    },
    {
      "cell_type": "code",
      "metadata": {
        "id": "QUDg6MNagMFs"
      },
      "source": [
        " \n",
        "# gdown.download(url, ZIPFILE, quiet=False)\n",
        " \n",
        "# !unzip -q \"{ZIPFILE}\" -d \"{UNZIP_LOC}\""
      ],
      "execution_count": 51,
      "outputs": []
    },
    {
      "cell_type": "markdown",
      "metadata": {
        "id": "s-u5TKFXB2Ko"
      },
      "source": [
        "Validate count of Xray images"
      ]
    },
    {
      "cell_type": "code",
      "metadata": {
        "id": "GZEW8jTmB2TG"
      },
      "source": [
        "\n",
        "# assert len(os.listdir(UNZIP_LOC + 'COVID')) == 42, \"COVID Xray count wrong. Imbalanced dataset\"\n",
        "# assert len(os.listdir(UNZIP_LOC + 'Non-COVID')) == 42, \"Non-COVID Xray count wrong. Imbalanced dataset\""
      ],
      "execution_count": 52,
      "outputs": []
    },
    {
      "cell_type": "markdown",
      "metadata": {
        "id": "gxEWvpsgIm9p"
      },
      "source": [
        "Split dataset\n"
      ]
    },
    {
      "cell_type": "code",
      "metadata": {
        "id": "bPkdIOqIInIT"
      },
      "source": [
        "# splitfolders.ratio(UNZIP_LOC, output= DATA_PATH, seed=1337, ratio=(0.6,0.2,0.2))"
      ],
      "execution_count": 53,
      "outputs": []
    },
    {
      "cell_type": "code",
      "metadata": {
        "colab": {
          "base_uri": "https://localhost:8080/"
        },
        "id": "gcfmBupMCCRN",
        "outputId": "df0fa266-c370-4e57-c8ee-9da6aa0bc7a6"
      },
      "source": [
        "\n",
        "total_files = sum([len(files) for _, _, files in os.walk(UNZIP_LOC)])\n",
        "total_split_files = sum([len(files) for _, _, files in os.walk(DATA_PATH)])\n",
        "print(total_files, total_split_files)\n",
        "assert total_files == total_split_files"
      ],
      "execution_count": 54,
      "outputs": [
        {
          "output_type": "stream",
          "text": [
            "84 84\n"
          ],
          "name": "stdout"
        }
      ]
    },
    {
      "cell_type": "markdown",
      "metadata": {
        "id": "tURoM519GZzU"
      },
      "source": [
        "Image Pre-processing"
      ]
    },
    {
      "cell_type": "code",
      "metadata": {
        "id": "zAwZzT8bGdpm"
      },
      "source": [
        "\n",
        "def get_XRay_count(folder, data_path=DATA_PATH):\n",
        "    \n",
        "    '''\n",
        "    TODO: Implement this function to return the number of normal and pneumonia samples.\n",
        "          Hint: !ls $DATA_PATH\n",
        "    '''\n",
        "    \n",
        "    # your code here\n",
        "    covid_path = data_path + folder + '/COVID' \n",
        "    non_covid_path = data_path + folder + '/Non-COVID'\n",
        "\n",
        "    covid_count = (len(os.listdir(covid_path)))\n",
        "    non_covid_count = (len(os.listdir(non_covid_path)))\n",
        "\n",
        "    return covid_count, non_covid_count\n",
        "\n",
        "\n",
        "def load_data(data_path=DATA_PATH):\n",
        "    \n",
        "    '''\n",
        "      DataLoader for the dataset\n",
        "    '''\n",
        "\n",
        "    transformed_img = transforms.Compose([\n",
        "        transforms.RandomResizedCrop(224),\n",
        "        transforms.ToTensor(),\n",
        "        transforms.Normalize([0.5, 0.5, 0.5], [0.5, 0.5, 0.5])\n",
        "    ])\n",
        "\n",
        "    class_sample_count = [5,5] # dataset has 10 class-1 samples, 1 class-2 samples, etc.\n",
        "    weights = (1 / torch.Tensor(class_sample_count)).double()\n",
        "    # print(weights)\n",
        "    # weights = [0.2, 0.8]\n",
        "    sampler = torch.utils.data.sampler.WeightedRandomSampler(weights, BATCH_SIZE)\n",
        "\n",
        "    train_path = DATA_PATH + '/train' \n",
        "    train_data = datasets.ImageFolder(root=train_path, \n",
        "                                      transform=transformed_img)\n",
        "    # train_loader = torch.utils.data.DataLoader(train_data,batch_size=BATCH_SIZE,sampler = sampler)\n",
        "    train_loader = torch.utils.data.DataLoader(train_data,batch_size=BATCH_SIZE,shuffle= True)\n",
        "\n",
        "    val_path = DATA_PATH + '/val' \n",
        "    val_data = datasets.ImageFolder(root=val_path, \n",
        "                                    transform=transformed_img)\n",
        "    # val_loader = torch.utils.data.DataLoader(val_data,batch_size=BATCH_SIZE,sampler = sampler)\n",
        "    val_loader = torch.utils.data.DataLoader(val_data,batch_size=BATCH_SIZE,shuffle= True)\n",
        "    \n",
        "    test_path = DATA_PATH + '/test' \n",
        "    test_data = datasets.ImageFolder(root=test_path, \n",
        "                                    transform=transformed_img)\n",
        "    test_loader = torch.utils.data.DataLoader(test_data, \n",
        "                                             batch_size=BATCH_SIZE)\n",
        "    \n",
        "    \n",
        "    return train_loader, val_loader, test_loader"
      ],
      "execution_count": 55,
      "outputs": []
    },
    {
      "cell_type": "markdown",
      "metadata": {
        "id": "a0kEj0njH3A8"
      },
      "source": [
        "Dataset validations"
      ]
    },
    {
      "cell_type": "code",
      "metadata": {
        "id": "IoYhJ7baH3JN",
        "colab": {
          "base_uri": "https://localhost:8080/"
        },
        "outputId": "2880b529-5e7e-4975-dd5b-243b94a9cef6"
      },
      "source": [
        "# assert get_XRay_count('train') == (335, 387)\n",
        "# assert get_XRay_count('val') == (64, 104)\n",
        "# assert get_XRay_count('test') == (64, 104)\n",
        "\n",
        "print(get_XRay_count('train'))\n",
        "print(get_XRay_count('val'))\n",
        "print(get_XRay_count('test'))\n",
        "\n"
      ],
      "execution_count": 56,
      "outputs": [
        {
          "output_type": "stream",
          "text": [
            "(25, 25)\n",
            "(8, 8)\n",
            "(9, 9)\n"
          ],
          "name": "stdout"
        }
      ]
    },
    {
      "cell_type": "markdown",
      "metadata": {
        "id": "2czxA_aoINlQ"
      },
      "source": [
        ""
      ]
    },
    {
      "cell_type": "code",
      "metadata": {
        "id": "KEtyuDYYIM1C"
      },
      "source": [
        "# train_loader, val_loader, test_loader = load_data()\n",
        "\n",
        "# assert type(train_loader) is torch.utils.data.dataloader.DataLoader\n",
        "\n",
        "# curr_batch = next(iter(train_loader))\n",
        "# print(curr_batch)\n",
        "# for images, labels in train_loader:\n",
        "#     print(images, images.shape)"
      ],
      "execution_count": 57,
      "outputs": []
    },
    {
      "cell_type": "markdown",
      "metadata": {
        "id": "5l3dlkuUISDv"
      },
      "source": [
        ""
      ]
    },
    {
      "cell_type": "code",
      "metadata": {
        "id": "XPu03Zb0ISKe",
        "colab": {
          "base_uri": "https://localhost:8080/",
          "height": 281
        },
        "outputId": "419a353f-749c-456b-ce3f-655962279b66"
      },
      "source": [
        "\n",
        "def imshow(img, title):\n",
        "    npimg = img.numpy()\n",
        "    plt.figure(figsize=(15, 7))\n",
        "    plt.axis('off')\n",
        "    plt.imshow(np.transpose(npimg, (1, 2, 0)))\n",
        "    plt.title(title)\n",
        "    plt.show()\n",
        "\n",
        "def show_batch_images(dataloader):\n",
        "    images, labels = next(iter(dataloader))\n",
        "    img = torchvision.utils.make_grid(images, padding=25)\n",
        "    imshow(img, title=[\"COVID\" if x==0  else \"Non-COVID\" for x in labels])\n",
        "\n",
        "train_loader, val_loader, test_loader = load_data()   \n",
        "show_batch_images(train_loader)"
      ],
      "execution_count": 58,
      "outputs": [
        {
          "output_type": "stream",
          "text": [
            "Clipping input data to the valid range for imshow with RGB data ([0..1] for floats or [0..255] for integers).\n"
          ],
          "name": "stderr"
        },
        {
          "output_type": "display_data",
          "data": {
            "image/png": "[encoded data removed]",
            "text/plain": [
              "<Figure size 1080x504 with 1 Axes>"
            ]
          },
          "metadata": {
            "tags": []
          }
        }
      ]
    },
    {
      "cell_type": "markdown",
      "metadata": {
        "id": "u8BsCvn8vARn"
      },
      "source": [
        ""
      ]
    },
    {
      "cell_type": "code",
      "metadata": {
        "colab": {
          "base_uri": "https://localhost:8080/"
        },
        "id": "4qvrDbk1vAyF",
        "outputId": "a753e08c-7e76-48d8-fb67-779571244065"
      },
      "source": [
        "def conv_output_volume(W, F, S, P):\n",
        "    # your code here\n",
        "    return int(((W - F + 2*P)/S)) + 1\n",
        "\n",
        "print(conv_output_volume(W=224, F=3, S=3, P=0))\n",
        "print(conv_output_volume(W=74, F=3, S=3, P=0))\n",
        "print(conv_output_volume(W=24, F=3, S=3, P=0))\n",
        "print(conv_output_volume(W=8, F=3, S=3, P=1))"
      ],
      "execution_count": 59,
      "outputs": [
        {
          "output_type": "stream",
          "text": [
            "74\n",
            "24\n",
            "8\n",
            "3\n"
          ],
          "name": "stdout"
        }
      ]
    },
    {
      "cell_type": "markdown",
      "metadata": {
        "id": "AsmIB7ZTIeEY"
      },
      "source": [
        "CNN Definition\n"
      ]
    },
    {
      "cell_type": "code",
      "metadata": {
        "id": "GTQmMbNyIeSO"
      },
      "source": [
        "class CovidCNN(nn.Module):\n",
        "    def __init__(self):\n",
        "        super(CovidCNN, self).__init__()\n",
        "\n",
        "        self.conv1 = nn.Sequential( \n",
        "            nn.Conv2d(in_channels = 3, out_channels = 32, kernel_size = (3,3), stride=(3,3), padding=0),\n",
        "            nn.ReLU(inplace=True)\n",
        "        )\n",
        "                 \n",
        "        self.conv2 = nn.Sequential(\n",
        "            nn.Conv2d(in_channels = 32, out_channels = 64, kernel_size = (3,3), stride=(3,3), padding=0),\n",
        "            nn.ReLU(inplace=True),\n",
        "            nn.MaxPool2d(kernel_size=2, stride=2)\n",
        "        )\n",
        "\n",
        "        self.conv3 = nn.Sequential(\n",
        "            nn.Conv2d(in_channels = 64, out_channels = 64, kernel_size = (3,3), stride=(3,3), padding=0),\n",
        "            nn.ReLU(inplace=True),\n",
        "            nn.MaxPool2d(kernel_size=2, stride=2)\n",
        "        )\n",
        "\n",
        "        self.conv4 = nn.Sequential(\n",
        "            nn.Conv2d(in_channels = 64, out_channels = 128, kernel_size = (3,3), stride=(3,3), padding=1),\n",
        "            nn.ReLU(inplace=True),\n",
        "            nn.MaxPool2d(kernel_size=2, stride=2, ceil_mode=True)\n",
        "        )\n",
        "         \n",
        "        self.fc = nn.Linear(in_features = 128 * 1 * 1, out_features = 2)\n",
        "        self.dropout = nn.Dropout()\n",
        "        self.sigmoid = nn.Sigmoid()\n",
        "\n",
        "    def forward(self, x):\n",
        "        x = self.conv1(x)\n",
        "        x = self.conv2(x)\n",
        "        x = self.conv3(x)\n",
        "        x = self.conv4(x)\n",
        "\n",
        "        # x = torch.flatten(x,start_dim=1,end_dim=-1)\n",
        "        x = x.view(x.shape[0], -1)\n",
        "        \n",
        "        x = self.fc(x)\n",
        "        x = self.dropout(x)\n",
        "        x = self.sigmoid(x)\n",
        "        return x\n"
      ],
      "execution_count": 60,
      "outputs": []
    },
    {
      "cell_type": "code",
      "metadata": {
        "id": "wdrG_jWlXuBe"
      },
      "source": [
        "def get_CoroNet_model():\n",
        "    \n",
        "    model = timm.create_model('xception', pretrained=True)\n",
        "    num_classes = 2\n",
        "\n",
        "    # replace the last layer\n",
        "    num_ftrs  = model.fc.in_features\n",
        "    model.fc = nn.Sequential(\n",
        "        nn.Flatten(),\n",
        "        nn.Dropout(0.5),\n",
        "        nn.Linear(num_ftrs , 256),\n",
        "        nn.ReLU(inplace=True),\n",
        "        nn.Linear(256 , num_classes),\n",
        "        nn.Softmax(-1)\n",
        "    )\n",
        "    \n",
        "    return model"
      ],
      "execution_count": 61,
      "outputs": []
    },
    {
      "cell_type": "code",
      "metadata": {
        "id": "mH3JeL1fi1Af"
      },
      "source": [
        "class EMCNet(nn.Module):\n",
        "    def __init__(self):\n",
        "        super(EMCNet, self).__init__()\n",
        "        self.conv1 = nn.Conv2d(3, 32, 3, padding=(1,1))\n",
        "        self.pool = nn.MaxPool2d(2, 2)\n",
        "        self.conv2 = nn.Conv2d(32, 128, 3, padding=(1,1))\n",
        "        self.conv3 = nn.Conv2d(128, 64, 3)\n",
        "        self.conv4 = nn.Conv2d(64, 128, 3)\n",
        "        self.conv5 = nn.Conv2d(128, 512, 3)\n",
        "        self.conv6 = nn.Conv2d(512, 512, 3)\n",
        "        self.fc1 = nn.Linear(12800, 64)\n",
        "        self.fc2 = nn.Linear(64, 2)\n",
        "        self.dropout = nn.Dropout(p=0.25)\n",
        "        self.dropout1 = nn.Dropout(p=0.5)\n",
        "        self.sigmoid = nn.Sigmoid()\n",
        "        \n",
        "\n",
        "    def forward(self, x):\n",
        "\n",
        "        x = F.relu(self.conv1(x))\n",
        "        x = self.pool(F.relu(self.conv2(x)))\n",
        "        x = self.dropout(x)\n",
        "        x = self.pool(F.relu(self.conv3(x)))\n",
        "        x = self.dropout(x)\n",
        "        x = self.pool(F.relu(self.conv4(x)))\n",
        "        x = self.dropout(x)\n",
        "        x = self.pool(F.relu(self.conv5(x)))\n",
        "        x = self.dropout(x)\n",
        "        x = self.pool(F.relu(self.conv6(x)))\n",
        "        x = self.dropout(x)\n",
        "        x = x.view(-1, 12800)\n",
        "        x = F.relu(self.fc1(x))\n",
        "        x = self.dropout(x)\n",
        "        x = self.sigmoid(self.fc2(x))\n",
        "        return x\n",
        "\n"
      ],
      "execution_count": 62,
      "outputs": []
    },
    {
      "cell_type": "markdown",
      "metadata": {
        "id": "qFNQuuq_Iel7"
      },
      "source": [
        "Validations"
      ]
    },
    {
      "cell_type": "code",
      "metadata": {
        "id": "Uhmt9quuIeyR"
      },
      "source": [
        ""
      ],
      "execution_count": 62,
      "outputs": []
    },
    {
      "cell_type": "markdown",
      "metadata": {
        "id": "RIJow8miIfRH"
      },
      "source": [
        "Criterion and Optimizer"
      ]
    },
    {
      "cell_type": "code",
      "metadata": {
        "id": "7CG_DXBGIfc3"
      },
      "source": [
        "def get_model(model_nm = MODEL_NAME):\n",
        "  if model_nm == 'CoroNet':\n",
        "    model = get_CoroNet_model()\n",
        "  elif model_nm == 'CovidCNN':\n",
        "    model = CovidCNN()\n",
        "  elif model_nm == 'EMCNet':\n",
        "    model = EMCNet()\n",
        "  \n",
        "  if use_cuda:\n",
        "    model.cuda()\n",
        "\n",
        "  return model\n",
        "\n",
        "\n",
        "criterion = None\n",
        "optimizer = None\n",
        "\n",
        "model = get_model(MODEL_NAME)\n",
        "\n",
        "criterion = nn.CrossEntropyLoss()\n",
        "optimizer = torch.optim.Adam(model.parameters(), lr=LEARNING_RATE)\n",
        "\n",
        "if use_cuda:\n",
        "    criterion = criterion.cuda()\n"
      ],
      "execution_count": 63,
      "outputs": []
    },
    {
      "cell_type": "markdown",
      "metadata": {
        "id": "WOPpDMKBI1Rk"
      },
      "source": [
        "Training"
      ]
    },
    {
      "cell_type": "code",
      "metadata": {
        "id": "xAUJOzdZ61oN"
      },
      "source": [
        "def save_checkpoint(model_state, checkpoint_path):\n",
        "  torch.save(model_state, checkpoint_path)\n",
        "  # if is_best:\n",
        "  #   torch.save(model.state_dict(), filepath)\n",
        "  #   # shutil.copyfile(filename, 'model_best.pth.tar')\n",
        "\n",
        "def plot_metrics(train_losses, train_accuracy, val_losses, val_accuracy):\n",
        "\n",
        "  epoch_list=  list(range(1, NUM_EPOCHS+1))\n",
        "\n",
        "  sns.set_style(\"darkgrid\")\n",
        "  plt.plot(epoch_list, val_losses, label='Validation Loss')\n",
        "  plt.plot(epoch_list, val_accuracy, label='Validation Accuracy')\n",
        "  plt.title('Accuracy/Training Loss over epochs')\n",
        "  plt.ylabel('Accuracy/Loss')\n",
        "  plt.xlabel('Epoch')\n",
        "  plt.ylim([0, 1])\n",
        "  plt.legend(['Validation Loss', 'Validation Accuracy'], loc='lower right')\n",
        "  plt.show()\n",
        "\n",
        "def train_model(model, train_dataloader, val_dataloader, n_epoch=NUM_EPOCHS, optimizer=optimizer, criterion=criterion):\n",
        "\n",
        "    model.train() # prep model for training\n",
        "    \n",
        "    train_losses = []\n",
        "    val_losses = []\n",
        "    train_accuracy = []\n",
        "    val_accuracy = []\n",
        "    min_val_accuracy = 0.0\n",
        "    \n",
        "    tb = SummaryWriter()\n",
        "\n",
        "    for epoch in range(n_epoch):\n",
        "\n",
        "      running_train_loss = 0\n",
        "      running_val_loss = 0\n",
        "      running_train_correct = 0\n",
        "      running_val_correct = 0\n",
        "\n",
        "      # Training loop\n",
        "      for images, labels in train_dataloader:\n",
        "\n",
        "        if use_cuda:\n",
        "            images, labels = images.cuda(), labels.cuda()\n",
        "\n",
        "        # Clear parameter gradients\n",
        "        optimizer.zero_grad()\n",
        "\n",
        "        # forward pass\n",
        "        outputs = model(images)\n",
        "        \n",
        "        #Calculate loss\n",
        "        loss = criterion(outputs, labels )\n",
        "\n",
        "        # Loss for batch\n",
        "        running_train_loss += loss.item() * images.size(0)\n",
        "\n",
        "        _, preds = torch.max(outputs, 1)\n",
        "\n",
        "        # backward pass\n",
        "        loss.backward()\n",
        "        \n",
        "        #Perform single optimization step\n",
        "        optimizer.step()\n",
        "\n",
        "        # Correct predictions\n",
        "        running_train_correct += (preds == labels).sum().item()\n",
        "\n",
        "      # Validation loop\n",
        "      for images, labels in val_dataloader:\n",
        "        if use_cuda:\n",
        "            images, labels = images.cuda(), labels.cuda()\n",
        "        \n",
        "        # Eval mode\n",
        "        model.eval()\n",
        "        \n",
        "        output = model(images)\n",
        "        loss = criterion(output, labels)\n",
        "        _, preds = torch.max(output, 1)\n",
        "\n",
        "        # Calculate validation loss and correct predictions\n",
        "        running_val_loss += loss.item() * images.size(0)\n",
        "        running_val_correct += (preds == labels).sum().item()\n",
        "      \n",
        "      # Put back in train mode for next epoch\n",
        "      model.train()\n",
        "  \n",
        "      # Calculate loss and accuracy for training and validation\n",
        "      epoch_train_loss = running_train_loss / len(train_dataloader.dataset)\n",
        "      epoch_train_accuracy = running_train_correct / len(train_dataloader.dataset)\n",
        "      epoch_val_loss = running_val_loss / len(val_dataloader.dataset)\n",
        "      epoch_val_accuracy = running_val_correct / len(val_dataloader.dataset)\n",
        "\n",
        "      print(\n",
        "          f\"Epoch {epoch+1}, Train loss : {epoch_train_loss:.4f}, Validation loss :{epoch_val_loss:.4f}, \"\n",
        "          f\"Training accuracy: {epoch_train_accuracy:.4f}, Validation accuracy: {epoch_val_accuracy:.4f}\"\n",
        "          )\n",
        "      \n",
        "      # Arrays having values from all epochs for plotting graphs\n",
        "      train_losses.append(epoch_train_loss)\n",
        "      train_accuracy.append(epoch_train_accuracy)\n",
        "      val_losses.append(epoch_val_loss)\n",
        "      val_accuracy.append(epoch_val_accuracy)\n",
        "\n",
        "      # Save the checkpoint after every epoch so that if needed, training can be resumed from this point later on\n",
        "      checkpoint_path = MODEL_PATH + 'last_model_state.pth'\n",
        "      save_checkpoint({\n",
        "          'epoch': epoch,\n",
        "          'state_dict': model.state_dict(),\n",
        "          'optimizer' : optimizer.state_dict(),\n",
        "          'loss': criterion,\n",
        "          'epoch_val_accuracy': epoch_val_accuracy\n",
        "      }, checkpoint_path)\n",
        "      \n",
        "      # If validation accuracy improves, save it so that he best model can be picked up at the end\n",
        "      if epoch_val_accuracy > min_val_accuracy:\n",
        "          print(f\"Validation accuracy increased from {min_val_accuracy} -> {epoch_val_accuracy}. Saving model...\")\n",
        "          min_val_accuracy = epoch_val_accuracy\n",
        "          file_path = MODEL_PATH + 'best_model_epoch' + str(epoch+1) + \"_accuracy\" + str(epoch_val_accuracy) + '.pth'\n",
        "          torch.save(copy.deepcopy(model.state_dict()), file_path)\n",
        "\n",
        "      # Remove previously saved models except the last checkpoint and best model\n",
        "      for fpath in glob.glob(MODEL_PATH + '*.*') :\n",
        "        if fpath not in [file_path,checkpoint_path]:\n",
        "          os.remove(fpath)\n",
        "          # print(fpath)\n",
        "\n",
        "      # Log the epoch loss and accuracy for validation using TensorBoard\n",
        "      if new_dataset != 'MINI':\n",
        "        tb.add_scalar('Validation Loss', epoch_val_loss, epoch)\n",
        "        tb.add_scalar('Validation Accuracy', epoch_val_accuracy, epoch)\n",
        "\n",
        "    # Retrieve best model\n",
        "    model = get_model(MODEL_NAME)\n",
        "    model.load_state_dict(torch.load(file_path))\n",
        "    \n",
        "    return model, train_losses, train_accuracy, val_losses, val_accuracy\n"
      ],
      "execution_count": 64,
      "outputs": []
    },
    {
      "cell_type": "markdown",
      "metadata": {
        "id": "M369H7ugI1oB"
      },
      "source": [
        ""
      ]
    },
    {
      "cell_type": "code",
      "metadata": {
        "id": "vFln9yj3I1vI",
        "colab": {
          "base_uri": "https://localhost:8080/",
          "height": 739
        },
        "outputId": "552d262d-e0fe-474c-8a78-b13fb137d005"
      },
      "source": [
        "# get train and val data loader\n",
        "train_loader, val_loader, test_loader = load_data()\n",
        "\n",
        "seed = 24\n",
        "random.seed(seed)\n",
        "np.random.seed(seed)\n",
        "torch.manual_seed(seed)\n",
        "\n",
        "# Load Tensorboard for live visualizations\n",
        "if new_dataset != 'MINI':\n",
        "  %load_ext tensorboard\n",
        "  %tensorboard --logdir runs\n",
        "\n",
        "model, train_losses, train_accuracy, val_losses, val_accuracy = train_model(model, train_loader, val_loader)\n",
        "\n",
        "# Plot various metrics\n",
        "plot_metrics(train_losses, train_accuracy, val_losses, val_accuracy)"
      ],
      "execution_count": 65,
      "outputs": [
        {
          "output_type": "stream",
          "text": [
            "Epoch 1, Train loss : 0.7023, Validation loss :0.6932, Training accuracy: 0.5000, Validation accuracy: 0.5000\n",
            "Validation accuracy increased from 0.0 -> 0.5. Saving model...\n",
            "Epoch 2, Train loss : 0.6940, Validation loss :0.6931, Training accuracy: 0.4600, Validation accuracy: 0.5000\n",
            "Epoch 3, Train loss : 0.6911, Validation loss :0.6928, Training accuracy: 0.5600, Validation accuracy: 0.5000\n",
            "Epoch 4, Train loss : 0.6977, Validation loss :0.6921, Training accuracy: 0.5000, Validation accuracy: 0.5000\n",
            "Epoch 5, Train loss : 0.6926, Validation loss :0.6921, Training accuracy: 0.4600, Validation accuracy: 0.4375\n",
            "Epoch 6, Train loss : 0.6946, Validation loss :0.6921, Training accuracy: 0.5000, Validation accuracy: 0.5625\n",
            "Validation accuracy increased from 0.5 -> 0.5625. Saving model...\n",
            "Epoch 7, Train loss : 0.6883, Validation loss :0.6914, Training accuracy: 0.6000, Validation accuracy: 0.5625\n",
            "Epoch 8, Train loss : 0.6901, Validation loss :0.6870, Training accuracy: 0.5200, Validation accuracy: 0.5625\n",
            "Epoch 9, Train loss : 0.6858, Validation loss :0.6824, Training accuracy: 0.5200, Validation accuracy: 0.6250\n",
            "Validation accuracy increased from 0.5625 -> 0.625. Saving model...\n",
            "Epoch 10, Train loss : 0.6921, Validation loss :0.6735, Training accuracy: 0.5000, Validation accuracy: 0.5000\n",
            "Epoch 11, Train loss : 0.6517, Validation loss :0.6659, Training accuracy: 0.6200, Validation accuracy: 0.7500\n",
            "Validation accuracy increased from 0.625 -> 0.75. Saving model...\n",
            "Epoch 12, Train loss : 0.6668, Validation loss :0.6361, Training accuracy: 0.6200, Validation accuracy: 0.6875\n",
            "Epoch 13, Train loss : 0.6769, Validation loss :0.6857, Training accuracy: 0.6600, Validation accuracy: 0.6250\n",
            "Epoch 14, Train loss : 0.6813, Validation loss :0.6648, Training accuracy: 0.5600, Validation accuracy: 0.6250\n",
            "Epoch 15, Train loss : 0.6552, Validation loss :0.6774, Training accuracy: 0.6200, Validation accuracy: 0.5625\n",
            "Epoch 16, Train loss : 0.6209, Validation loss :0.7268, Training accuracy: 0.6800, Validation accuracy: 0.4375\n",
            "Epoch 17, Train loss : 0.6128, Validation loss :0.6545, Training accuracy: 0.7000, Validation accuracy: 0.6250\n",
            "Epoch 18, Train loss : 0.6634, Validation loss :0.5624, Training accuracy: 0.6600, Validation accuracy: 0.6875\n",
            "Epoch 19, Train loss : 0.5603, Validation loss :0.5286, Training accuracy: 0.7600, Validation accuracy: 0.8125\n",
            "Validation accuracy increased from 0.75 -> 0.8125. Saving model...\n",
            "Epoch 20, Train loss : 0.5997, Validation loss :0.6935, Training accuracy: 0.7000, Validation accuracy: 0.6250\n"
          ],
          "name": "stdout"
        },
        {
          "output_type": "display_data",
          "data": {
            "image/png": "[encoded data removed]",
            "text/plain": [
              "<Figure size 432x288 with 1 Axes>"
            ]
          },
          "metadata": {
            "tags": []
          }
        }
      ]
    },
    {
      "cell_type": "markdown",
      "metadata": {
        "id": "VOjAB_ttJEaW"
      },
      "source": [
        ""
      ]
    },
    {
      "cell_type": "code",
      "metadata": {
        "id": "VuHy-ydOJEmJ"
      },
      "source": [
        "def eval_model(model, dataloader):\n",
        "\n",
        "  model.eval()\n",
        "\n",
        "  Y_pred = []\n",
        "  Y_test = []\n",
        "\n",
        "  with torch.no_grad():\n",
        "      correct = 0\n",
        "      total = 0\n",
        "      for images, labels in dataloader:\n",
        "          if use_cuda:\n",
        "            images, labels = images.cuda(), labels.cuda()\n",
        "          y_pred = model(images)\n",
        "          _, y_pred_tag = torch.max(y_pred, 1)\n",
        "          # total += labels.size(0)\n",
        "          # correct += (y_pred_tag == labels).sum().item()\n",
        "\n",
        "          Y_pred = np.append(Y_pred,y_pred_tag.cpu().detach().numpy())\n",
        "          Y_test = np.append(Y_test,labels.cpu().numpy())\n",
        "\n",
        "      # print('Test Accuracy of the model: {} %'.format((correct / total) * 100))\n",
        "\n",
        "  return Y_pred, Y_test"
      ],
      "execution_count": 66,
      "outputs": []
    },
    {
      "cell_type": "markdown",
      "metadata": {
        "id": "rIzN4vWTJEvu"
      },
      "source": [
        ""
      ]
    },
    {
      "cell_type": "code",
      "metadata": {
        "id": "4SYTw18rJE7t",
        "colab": {
          "base_uri": "https://localhost:8080/",
          "height": 411
        },
        "outputId": "42f78a82-f694-4405-c9cc-ab8d71262c6e"
      },
      "source": [
        "  from sklearn.metrics import accuracy_score, precision_recall_fscore_support, confusion_matrix\n",
        "\n",
        "  y_pred, y_true = eval_model(model, test_loader)\n",
        "\n",
        "  # Print metrics\n",
        "  accuracy = accuracy_score(y_true, y_pred)\n",
        "  precision, recall, fscore, support = precision_recall_fscore_support(y_true, y_pred\n",
        "                                                                       , average='macro'\n",
        "                                                                      #  , pos_label = 0\n",
        "                                                                      )\n",
        "  print(f\"Accuracy: {accuracy} \\nPrecision: {precision} \\nRecall: {recall} \\nF1: {fscore} \\nSupport: {support}\")\n",
        "\n",
        "  # Show confusion matrix\n",
        "  np.set_printoptions(threshold=np.inf) \n",
        "  cm1 = confusion_matrix(y_true, y_pred)\n",
        "  print(cm1)\n",
        "\n",
        "  group_names = ['True Neg','False Pos','False Neg','True Pos']\n",
        "  group_counts = [\"{0:0.0f}\".format(value) for value in\n",
        "                  cm1.flatten()]\n",
        "  group_percentages = [\"{0:.2%}\".format(value) for value in\n",
        "                      cm1.flatten()/np.sum(cm1)]\n",
        "  labels = [f\"{v1}\\n{v2}\\n{v3}\" for v1, v2, v3 in\n",
        "            zip(group_names,group_counts,group_percentages)]\n",
        "  labels = np.asarray(labels).reshape(2,2)\n",
        "  sns.heatmap(cm1, annot=labels, fmt='', cmap='Blues')\n",
        "\n"
      ],
      "execution_count": 67,
      "outputs": [
        {
          "output_type": "stream",
          "text": [
            "Accuracy: 0.7777777777777778 \n",
            "Precision: 0.7922077922077921 \n",
            "Recall: 0.7777777777777777 \n",
            "F1: 0.7749999999999999 \n",
            "Support: None\n",
            "[[8 1]\n",
            " [3 6]]\n"
          ],
          "name": "stdout"
        },
        {
          "output_type": "execute_result",
          "data": {
            "text/plain": [
              "<matplotlib.axes._subplots.AxesSubplot at 0x7f3f1dbb5dd0>"
            ]
          },
          "metadata": {
            "tags": []
          },
          "execution_count": 67
        },
        {
          "output_type": "display_data",
          "data": {
            "image/png": "[encoded data removed]",
            "text/plain": [
              "<Figure size 432x288 with 2 Axes>"
            ]
          },
          "metadata": {
            "tags": []
          }
        }
      ]
    },
    {
      "cell_type": "markdown",
      "metadata": {
        "id": "MXamelvjJFM0"
      },
      "source": [
        ""
      ]
    },
    {
      "cell_type": "code",
      "metadata": {
        "colab": {
          "base_uri": "https://localhost:8080/",
          "height": 17
        },
        "id": "ifVJtFn16w_4",
        "outputId": "273cc8a2-a007-4f2f-c717-4342d99f6f69"
      },
      "source": [
        "\n",
        "model_filename = MODEL_NAME + '_' + str(accuracy)+ '.pth'\n",
        "torch.save(model.state_dict(), model_filename)\n",
        "\n",
        "# download checkpoint file\n",
        "files.download(model_filename)\n",
        "\n",
        "# model.load_state_dict(torch.load(path))"
      ],
      "execution_count": 68,
      "outputs": [
        {
          "output_type": "display_data",
          "data": {
            "application/javascript": [
              "\n",
              "    async function download(id, filename, size) {\n",
              "      if (!google.colab.kernel.accessAllowed) {\n",
              "        return;\n",
              "      }\n",
              "      const div = document.createElement('div');\n",
              "      const label = document.createElement('label');\n",
              "      label.textContent = `Downloading \"${filename}\": `;\n",
              "      div.appendChild(label);\n",
              "      const progress = document.createElement('progress');\n",
              "      progress.max = size;\n",
              "      div.appendChild(progress);\n",
              "      document.body.appendChild(div);\n",
              "\n",
              "      const buffers = [];\n",
              "      let downloaded = 0;\n",
              "\n",
              "      const channel = await google.colab.kernel.comms.open(id);\n",
              "      // Send a message to notify the kernel that we're ready.\n",
              "      channel.send({})\n",
              "\n",
              "      for await (const message of channel.messages) {\n",
              "        // Send a message to notify the kernel that we're ready.\n",
              "        channel.send({})\n",
              "        if (message.buffers) {\n",
              "          for (const buffer of message.buffers) {\n",
              "            buffers.push(buffer);\n",
              "            downloaded += buffer.byteLength;\n",
              "            progress.value = downloaded;\n",
              "          }\n",
              "        }\n",
              "      }\n",
              "      const blob = new Blob(buffers, {type: 'application/binary'});\n",
              "      const a = document.createElement('a');\n",
              "      a.href = window.URL.createObjectURL(blob);\n",
              "      a.download = filename;\n",
              "      div.appendChild(a);\n",
              "      a.click();\n",
              "      div.remove();\n",
              "    }\n",
              "  "
            ],
            "text/plain": [
              "<IPython.core.display.Javascript object>"
            ]
          },
          "metadata": {
            "tags": []
          }
        },
        {
          "output_type": "display_data",
          "data": {
            "application/javascript": [
              "download(\"download_bfad3738-af2b-42b5-a717-183abf2e9eb6\", \"EMCNet_0.7777777777777778.pth\", 15825855)"
            ],
            "text/plain": [
              "<IPython.core.display.Javascript object>"
            ]
          },
          "metadata": {
            "tags": []
          }
        }
      ]
    }
  ]
}